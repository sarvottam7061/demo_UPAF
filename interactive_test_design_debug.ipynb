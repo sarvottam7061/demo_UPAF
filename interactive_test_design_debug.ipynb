{
 "cells": [
  {
   "cell_type": "code",
   "execution_count": 1,
   "id": "animated-numbers",
   "metadata": {},
   "outputs": [],
   "source": [
    "# Execute this block of code first\n",
    "import sys\n",
    "sys.path.append('./venv/Lib/site-packages/')\n",
    "sys.path.append('./venv/Scripts/')\n"
   ]
  },
  {
   "cell_type": "code",
   "execution_count": 2,
   "id": "encouraging-thanksgiving",
   "metadata": {},
   "outputs": [
    {
     "name": "stderr",
     "output_type": "stream",
     "text": [
      "c:\\users\\aswin\\appdata\\local\\programs\\python\\python39\\lib\\site-packages\\fuzzywuzzy\\fuzz.py:11: UserWarning: Using slow pure-python SequenceMatcher. Install python-Levenshtein to remove this warning\n",
      "  warnings.warn('Using slow pure-python SequenceMatcher. Install python-Levenshtein to remove this warning')\n",
      "\n",
      "\n",
      "====== WebDriver manager ======\n",
      "Current google-chrome version is 91.0.4472\n",
      "Get LATEST driver version for 91.0.4472\n",
      "Driver [C:\\Users\\aswin\\.wdm\\drivers\\chromedriver\\win32\\91.0.4472.101\\chromedriver.exe] found in cache\n"
     ]
    }
   ],
   "source": [
    "# Execute this block of code to design selenium tests in real time\n",
    "from business_components.web_components.get_quote import *\n",
    "from selenium import webdriver\n",
    "from object_repository.pages.AppInputForm import InputForm\n",
    "from webdriver_manager.chrome import ChromeDriverManager\n",
    "driver = webdriver.Chrome(ChromeDriverManager().install())\n",
    "driver.get(\"https://www.seleniumeasy.com/test/\")\n",
    "driver.maximize_window()"
   ]
  },
  {
   "cell_type": "code",
   "execution_count": 3,
   "id": "superior-serial",
   "metadata": {},
   "outputs": [
    {
     "data": {
      "text/plain": [
       "'Selenium Easy - Best Demo website to practice Selenium Webdriver Online'"
      ]
     },
     "execution_count": 3,
     "metadata": {},
     "output_type": "execute_result"
    }
   ],
   "source": [
    "driver.title"
   ]
  },
  {
   "cell_type": "code",
   "execution_count": 4,
   "id": "round-signature",
   "metadata": {},
   "outputs": [
    {
     "name": "stderr",
     "output_type": "stream",
     "text": [
      "TimeoutException: Message: Timeout in finding the element by name first_name\n",
      "TimeoutException: Message: Timeout in finding the element by xpath //input[@data-bv-field='first_name']\n",
      "TimeoutException: Message: Timeout in finding the element by css selector input[placeholder='First Name']\n",
      "inside heal run mode\n",
      "<input name=\"first_name\" placeholder=\"First Name\" class=\"form-control\" type=\"text\" data-bv-field=\"first_name\">{'x': 694, 'y': 380}\n"
     ]
    },
    {
     "data": {
      "text/plain": [
       "<object_repository.pages.AppInputForm.InputForm at 0x198e1d87cd0>"
      ]
     },
     "execution_count": 4,
     "metadata": {},
     "output_type": "execute_result"
    }
   ],
   "source": [
    "from object_repository.pages.AppInputForm import InputForm\n",
    "InputForm(driver).enter_fname(\"hello world\")"
   ]
  },
  {
   "cell_type": "code",
   "execution_count": 5,
   "id": "southwest-classroom",
   "metadata": {},
   "outputs": [
    {
     "name": "stderr",
     "output_type": "stream",
     "text": [
      "TimeoutException: Message: Timeout in finding the element by name last_name\n",
      "TimeoutException: Message: Timeout in finding the element by css selector input[placeholder='Last Name']\n",
      "inside heal run mode\n",
      "<input name=\"last_name\" placeholder=\"Last Name\" class=\"form-control\" type=\"text\" data-bv-field=\"last_name\">{'x': 694, 'y': 430}\n"
     ]
    },
    {
     "data": {
      "text/plain": [
       "<object_repository.pages.AppInputForm.InputForm at 0x198f295d580>"
      ]
     },
     "execution_count": 5,
     "metadata": {},
     "output_type": "execute_result"
    }
   ],
   "source": [
    "InputForm(driver).enter_lname(\"hello world\")"
   ]
  },
  {
   "cell_type": "code",
   "execution_count": 8,
   "id": "dietary-universal",
   "metadata": {},
   "outputs": [],
   "source": [
    "driver.find_element_by_name(\"last_name\").send_keys(\"testing\")"
   ]
  },
  {
   "cell_type": "code",
   "execution_count": null,
   "id": "hired-samuel",
   "metadata": {},
   "outputs": [],
   "source": []
  },
  {
   "cell_type": "code",
   "execution_count": 6,
   "id": "governing-simpson",
   "metadata": {
    "scrolled": true
   },
   "outputs": [],
   "source": []
  },
  {
   "cell_type": "code",
   "execution_count": 2,
   "id": "animal-durham",
   "metadata": {},
   "outputs": [
    {
     "data": {
      "text/plain": [
       "200"
      ]
     },
     "execution_count": 2,
     "metadata": {},
     "output_type": "execute_result"
    }
   ],
   "source": [
    "# Execute this block of code to design Rest api tests interactively\n",
    "import requests\n",
    "from PyAuto.PyAutoRest import PyRest\n",
    "rest_client = PyRest(\"https://reqres.in/\")\n",
    "rest_client.get(\"api/users\", params={\"page\":2})\n",
    "rest_client.response.status_code"
   ]
  },
  {
   "cell_type": "code",
   "execution_count": 4,
   "id": "competent-spell",
   "metadata": {},
   "outputs": [
    {
     "data": {
      "text/plain": [
       "2"
      ]
     },
     "execution_count": 4,
     "metadata": {},
     "output_type": "execute_result"
    }
   ],
   "source": [
    "rest_client.response.json()['page']"
   ]
  },
  {
   "cell_type": "code",
   "execution_count": null,
   "id": "isolated-gambling",
   "metadata": {},
   "outputs": [],
   "source": []
  },
  {
   "cell_type": "code",
   "execution_count": null,
   "id": "parallel-scale",
   "metadata": {},
   "outputs": [],
   "source": []
  },
  {
   "cell_type": "code",
   "execution_count": null,
   "id": "unavailable-treatment",
   "metadata": {},
   "outputs": [],
   "source": []
  },
  {
   "cell_type": "code",
   "execution_count": null,
   "id": "japanese-philip",
   "metadata": {},
   "outputs": [],
   "source": []
  },
  {
   "cell_type": "code",
   "execution_count": 19,
   "id": "rolled-confidentiality",
   "metadata": {},
   "outputs": [
    {
     "data": {
      "text/plain": [
       "11"
      ]
     },
     "execution_count": 19,
     "metadata": {},
     "output_type": "execute_result"
    }
   ],
   "source": [
    "#Execute this block of code for designing soap tests\n",
    "from zeep import Client\n",
    "soap_client = Client(\"http://dneonline.com/calculator.asmx?wsdl\")\n",
    "soap_client.service.Add(5, 6)"
   ]
  },
  {
   "cell_type": "code",
   "execution_count": null,
   "id": "great-piano",
   "metadata": {},
   "outputs": [],
   "source": []
  },
  {
   "cell_type": "code",
   "execution_count": null,
   "id": "weekly-dutch",
   "metadata": {},
   "outputs": [],
   "source": []
  },
  {
   "cell_type": "code",
   "execution_count": null,
   "id": "prospective-creation",
   "metadata": {},
   "outputs": [],
   "source": []
  },
  {
   "cell_type": "code",
   "execution_count": null,
   "id": "entitled-manner",
   "metadata": {},
   "outputs": [],
   "source": []
  },
  {
   "cell_type": "code",
   "execution_count": 18,
   "id": "veterinary-national",
   "metadata": {},
   "outputs": [
    {
     "data": {
      "text/plain": [
       "[(5, 'JOHNNY', 'LOLLOBRIGIDA', '2019-04-11 18:11:48'),\n",
       " (40, 'JOHNNY', 'CAGE', '2019-04-11 18:11:48')]"
      ]
     },
     "execution_count": 18,
     "metadata": {},
     "output_type": "execute_result"
    }
   ],
   "source": [
    "#Execute this block of code for designing db tests\n",
    "from sqlalchemy import create_engine\n",
    "from config import TestConfig as config\n",
    "from PyAuto.PyAutoDatabase import PySQLDatabase\n",
    "from object_repository.tables.actors_table import *\n",
    "\n",
    "engine = create_engine(\"sqlite:///resources/movies.db\")\n",
    "with engine.connect() as connection:\n",
    "    result = PySQLDatabase(connection).execute_query(query_first_name_johny).recordset.fetchall()\n",
    "result\n"
   ]
  },
  {
   "cell_type": "code",
   "execution_count": 19,
   "id": "jewish-antibody",
   "metadata": {},
   "outputs": [
    {
     "data": {
      "text/html": [
       "<div>\n",
       "<style scoped>\n",
       "    .dataframe tbody tr th:only-of-type {\n",
       "        vertical-align: middle;\n",
       "    }\n",
       "\n",
       "    .dataframe tbody tr th {\n",
       "        vertical-align: top;\n",
       "    }\n",
       "\n",
       "    .dataframe thead th {\n",
       "        text-align: right;\n",
       "    }\n",
       "</style>\n",
       "<table border=\"1\" class=\"dataframe\">\n",
       "  <thead>\n",
       "    <tr style=\"text-align: right;\">\n",
       "      <th></th>\n",
       "      <th>actor_id</th>\n",
       "      <th>first_name</th>\n",
       "      <th>last_name</th>\n",
       "      <th>last_update</th>\n",
       "    </tr>\n",
       "  </thead>\n",
       "  <tbody>\n",
       "    <tr>\n",
       "      <th>0</th>\n",
       "      <td>1</td>\n",
       "      <td>PENELOPE</td>\n",
       "      <td>GUINESS</td>\n",
       "      <td>2019-04-11 18:11:48</td>\n",
       "    </tr>\n",
       "    <tr>\n",
       "      <th>1</th>\n",
       "      <td>2</td>\n",
       "      <td>NICK</td>\n",
       "      <td>WAHLBERG</td>\n",
       "      <td>2019-04-11 18:11:48</td>\n",
       "    </tr>\n",
       "    <tr>\n",
       "      <th>2</th>\n",
       "      <td>3</td>\n",
       "      <td>ED</td>\n",
       "      <td>CHASE</td>\n",
       "      <td>2019-04-11 18:11:48</td>\n",
       "    </tr>\n",
       "    <tr>\n",
       "      <th>3</th>\n",
       "      <td>4</td>\n",
       "      <td>JENNIFER</td>\n",
       "      <td>DAVIS</td>\n",
       "      <td>2019-04-11 18:11:48</td>\n",
       "    </tr>\n",
       "    <tr>\n",
       "      <th>4</th>\n",
       "      <td>5</td>\n",
       "      <td>JOHNNY</td>\n",
       "      <td>LOLLOBRIGIDA</td>\n",
       "      <td>2019-04-11 18:11:48</td>\n",
       "    </tr>\n",
       "    <tr>\n",
       "      <th>...</th>\n",
       "      <td>...</td>\n",
       "      <td>...</td>\n",
       "      <td>...</td>\n",
       "      <td>...</td>\n",
       "    </tr>\n",
       "    <tr>\n",
       "      <th>195</th>\n",
       "      <td>196</td>\n",
       "      <td>BELA</td>\n",
       "      <td>WALKEN</td>\n",
       "      <td>2019-04-11 18:11:48</td>\n",
       "    </tr>\n",
       "    <tr>\n",
       "      <th>196</th>\n",
       "      <td>197</td>\n",
       "      <td>REESE</td>\n",
       "      <td>WEST</td>\n",
       "      <td>2019-04-11 18:11:48</td>\n",
       "    </tr>\n",
       "    <tr>\n",
       "      <th>197</th>\n",
       "      <td>198</td>\n",
       "      <td>MARY</td>\n",
       "      <td>KEITEL</td>\n",
       "      <td>2019-04-11 18:11:48</td>\n",
       "    </tr>\n",
       "    <tr>\n",
       "      <th>198</th>\n",
       "      <td>199</td>\n",
       "      <td>JULIA</td>\n",
       "      <td>FAWCETT</td>\n",
       "      <td>2019-04-11 18:11:48</td>\n",
       "    </tr>\n",
       "    <tr>\n",
       "      <th>199</th>\n",
       "      <td>200</td>\n",
       "      <td>THORA</td>\n",
       "      <td>TEMPLE</td>\n",
       "      <td>2019-04-11 18:11:48</td>\n",
       "    </tr>\n",
       "  </tbody>\n",
       "</table>\n",
       "<p>200 rows × 4 columns</p>\n",
       "</div>"
      ],
      "text/plain": [
       "     actor_id first_name     last_name         last_update\n",
       "0           1   PENELOPE       GUINESS 2019-04-11 18:11:48\n",
       "1           2       NICK      WAHLBERG 2019-04-11 18:11:48\n",
       "2           3         ED         CHASE 2019-04-11 18:11:48\n",
       "3           4   JENNIFER         DAVIS 2019-04-11 18:11:48\n",
       "4           5     JOHNNY  LOLLOBRIGIDA 2019-04-11 18:11:48\n",
       "..        ...        ...           ...                 ...\n",
       "195       196       BELA        WALKEN 2019-04-11 18:11:48\n",
       "196       197      REESE          WEST 2019-04-11 18:11:48\n",
       "197       198       MARY        KEITEL 2019-04-11 18:11:48\n",
       "198       199      JULIA       FAWCETT 2019-04-11 18:11:48\n",
       "199       200      THORA        TEMPLE 2019-04-11 18:11:48\n",
       "\n",
       "[200 rows x 4 columns]"
      ]
     },
     "execution_count": 19,
     "metadata": {},
     "output_type": "execute_result"
    }
   ],
   "source": [
    "# example on loading a table to pandas\n",
    "with engine.connect() as connection:\n",
    "    result = PySQLDatabase(connection).table_save_data_frame(\"actor\").recordset_df\n",
    "\n",
    "result"
   ]
  },
  {
   "cell_type": "code",
   "execution_count": 22,
   "id": "optical-teach",
   "metadata": {},
   "outputs": [
    {
     "data": {
      "text/html": [
       "<div>\n",
       "<style scoped>\n",
       "    .dataframe tbody tr th:only-of-type {\n",
       "        vertical-align: middle;\n",
       "    }\n",
       "\n",
       "    .dataframe tbody tr th {\n",
       "        vertical-align: top;\n",
       "    }\n",
       "\n",
       "    .dataframe thead th {\n",
       "        text-align: right;\n",
       "    }\n",
       "</style>\n",
       "<table border=\"1\" class=\"dataframe\">\n",
       "  <thead>\n",
       "    <tr style=\"text-align: right;\">\n",
       "      <th></th>\n",
       "      <th>actor_id</th>\n",
       "      <th>first_name</th>\n",
       "      <th>last_name</th>\n",
       "      <th>last_update</th>\n",
       "    </tr>\n",
       "  </thead>\n",
       "  <tbody>\n",
       "    <tr>\n",
       "      <th>0</th>\n",
       "      <td>1</td>\n",
       "      <td>PENELOPE</td>\n",
       "      <td>GUINESS</td>\n",
       "      <td>2019-04-11 18:11:48</td>\n",
       "    </tr>\n",
       "  </tbody>\n",
       "</table>\n",
       "</div>"
      ],
      "text/plain": [
       "   actor_id first_name last_name         last_update\n",
       "0         1   PENELOPE   GUINESS 2019-04-11 18:11:48"
      ]
     },
     "execution_count": 22,
     "metadata": {},
     "output_type": "execute_result"
    }
   ],
   "source": [
    "result.head(1)"
   ]
  },
  {
   "cell_type": "code",
   "execution_count": 13,
   "id": "informal-intake",
   "metadata": {},
   "outputs": [
    {
     "data": {
      "text/plain": [
       "0           GUINESS\n",
       "1          WAHLBERG\n",
       "2             CHASE\n",
       "3             DAVIS\n",
       "4      LOLLOBRIGIDA\n",
       "           ...     \n",
       "195          WALKEN\n",
       "196            WEST\n",
       "197          KEITEL\n",
       "198         FAWCETT\n",
       "199          TEMPLE\n",
       "Name: last_name, Length: 200, dtype: object"
      ]
     },
     "execution_count": 13,
     "metadata": {},
     "output_type": "execute_result"
    }
   ],
   "source": [
    "result['last_name']"
   ]
  },
  {
   "cell_type": "code",
   "execution_count": 14,
   "id": "athletic-allocation",
   "metadata": {},
   "outputs": [
    {
     "data": {
      "text/plain": [
       "160"
      ]
     },
     "execution_count": 14,
     "metadata": {},
     "output_type": "execute_result"
    }
   ],
   "source": [
    "result[result['actor_id'] > 40].shape[0] # the number of records after filtering with the condition actor id is > 40"
   ]
  },
  {
   "cell_type": "code",
   "execution_count": 29,
   "id": "combined-majority",
   "metadata": {},
   "outputs": [
    {
     "data": {
      "text/plain": [
       "0      penelope\n",
       "1          nick\n",
       "2            ed\n",
       "3      jennifer\n",
       "4        johnny\n",
       "         ...   \n",
       "195        bela\n",
       "196       reese\n",
       "197        mary\n",
       "198       julia\n",
       "199       thora\n",
       "Name: first_name, Length: 200, dtype: object"
      ]
     },
     "execution_count": 29,
     "metadata": {},
     "output_type": "execute_result"
    }
   ],
   "source": [
    "result['first_name'].apply(lambda x: x.lower())"
   ]
  },
  {
   "cell_type": "code",
   "execution_count": 28,
   "id": "lesser-freeware",
   "metadata": {},
   "outputs": [
    {
     "data": {
      "text/plain": [
       "'penelope'"
      ]
     },
     "execution_count": 28,
     "metadata": {},
     "output_type": "execute_result"
    }
   ],
   "source": [
    "\"PENELOPE\".lower()"
   ]
  },
  {
   "cell_type": "code",
   "execution_count": null,
   "id": "discrete-baseline",
   "metadata": {},
   "outputs": [],
   "source": []
  },
  {
   "cell_type": "code",
   "execution_count": null,
   "id": "strategic-gothic",
   "metadata": {},
   "outputs": [],
   "source": []
  },
  {
   "cell_type": "code",
   "execution_count": null,
   "id": "noted-teens",
   "metadata": {},
   "outputs": [],
   "source": []
  }
 ],
 "metadata": {
  "kernelspec": {
   "display_name": "Python 3",
   "language": "python",
   "name": "python3"
  },
  "language_info": {
   "codemirror_mode": {
    "name": "ipython",
    "version": 3
   },
   "file_extension": ".py",
   "mimetype": "text/x-python",
   "name": "python",
   "nbconvert_exporter": "python",
   "pygments_lexer": "ipython3",
   "version": "3.9.2"
  }
 },
 "nbformat": 4,
 "nbformat_minor": 5
}
